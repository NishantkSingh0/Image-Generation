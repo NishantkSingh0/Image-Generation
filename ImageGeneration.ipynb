{
  "nbformat": 4,
  "nbformat_minor": 0,
  "metadata": {
    "colab": {
      "provenance": [],
      "gpuType": "T4"
    },
    "kernelspec": {
      "name": "python3",
      "display_name": "Python 3"
    },
    "language_info": {
      "name": "python"
    },
    "accelerator": "GPU"
  },
  "cells": [
    {
      "cell_type": "code",
      "execution_count": 1,
      "metadata": {
        "id": "d4ktrSRlMMZH"
      },
      "outputs": [],
      "source": [
        "import matplotlib.pyplot as plt\n",
        "import tensorflow as tf\n",
        "import numpy as np"
      ]
    },
    {
      "cell_type": "code",
      "source": [
        "(X_train,Y_train),(X_test,Y_test)=tf.keras.datasets.mnist.load_data()"
      ],
      "metadata": {
        "id": "Ymnc7EJ9MSqy"
      },
      "execution_count": 76,
      "outputs": []
    },
    {
      "cell_type": "code",
      "source": [
        "X_train=X_train/255\n",
        "X_test=X_test/255\n",
        "imageOut=np.reshape(np.array(list(X_train)+list(X_test)),(70000,784))"
      ],
      "metadata": {
        "id": "KDVxm_zKPsJP"
      },
      "execution_count": 77,
      "outputs": []
    },
    {
      "cell_type": "code",
      "source": [
        "def Ymanage(Y_train):\n",
        "  Yupdated=[]\n",
        "  for i in Y_train:\n",
        "    y=np.zeros(10)\n",
        "    y[i]=1\n",
        "    Yupdated.append(y)\n",
        "  return np.array(Yupdated)"
      ],
      "metadata": {
        "id": "wb8JSC0eR3Y8"
      },
      "execution_count": 24,
      "outputs": []
    },
    {
      "cell_type": "code",
      "source": [
        "labelOut=list(Y_train)+list(Y_test)\n",
        "YTrainUpdate=Ymanage(labelOut)"
      ],
      "metadata": {
        "id": "Qo-gBTKYY7Ab"
      },
      "execution_count": 79,
      "outputs": []
    },
    {
      "cell_type": "code",
      "source": [
        "class Generative_model(tf.keras.Model):\n",
        "  def __init__(self,rate):\n",
        "    super(Generative_model,self).__init__()\n",
        "    self.dense1=tf.keras.layers.Dense(128,activation='relu')\n",
        "    self.dense2=tf.keras.layers.Dense(256,activation='relu')\n",
        "    self.dense3=tf.keras.layers.Dense(256,activation='relu')\n",
        "    self.dense4=tf.keras.layers.Dense(512,activation='relu')\n",
        "    self.dense5=tf.keras.layers.Dense(784,activation='sigmoid')\n",
        "    self.dropout=tf.keras.layers.Dropout(rate=rate)\n",
        "    self.norm=tf.keras.layers.LayerNormalization(epsilon=1e-5)\n",
        "    self.norm2=tf.keras.layers.LayerNormalization(epsilon=1e-5)\n",
        "  def call(self,input,training):\n",
        "    x=self.dense1(input)\n",
        "    x1=self.dense2(x)\n",
        "    x=self.dense3(x1)\n",
        "    x=self.norm(x1+x)\n",
        "    x=self.dense4(x)\n",
        "    x=self.dropout(x,training=training)\n",
        "    return self.dense5(x)"
      ],
      "metadata": {
        "id": "n4TdoUEPMkt2"
      },
      "execution_count": 81,
      "outputs": []
    },
    {
      "cell_type": "code",
      "source": [
        "model=Generative_model(0.1)"
      ],
      "metadata": {
        "id": "V3GvxLVMMmpQ"
      },
      "execution_count": 82,
      "outputs": []
    },
    {
      "cell_type": "code",
      "source": [
        "model.compile(\n",
        "    optimizer='adam',\n",
        "    loss='mae',\n",
        "    metrics=['accuracy']\n",
        ")"
      ],
      "metadata": {
        "id": "I_4iYBZTTN4C"
      },
      "execution_count": 83,
      "outputs": []
    },
    {
      "cell_type": "code",
      "source": [
        "model.fit(YTrainUpdate,imageOut,epochs=10,batch_size=22)"
      ],
      "metadata": {
        "id": "IU7MrkQGS0f1"
      },
      "execution_count": null,
      "outputs": []
    },
    {
      "cell_type": "code",
      "source": [
        "def outputs(i):\n",
        "  arr=YTrainUpdate[i]\n",
        "  image=model(arr[np.newaxis,:],training=False)\n",
        "  plt.imshow(np.reshape(image,(28,28)),cmap='gray')\n",
        "  plt.xlabel(f'Original: {np.argmax(arr)}')\n",
        "  plt.show()"
      ],
      "metadata": {
        "id": "pqYB1tmzeThX"
      },
      "execution_count": 91,
      "outputs": []
    },
    {
      "cell_type": "code",
      "source": [
        "outputs(4268)"
      ],
      "metadata": {
        "colab": {
          "base_uri": "https://localhost:8080/",
          "height": 449
        },
        "id": "5-DBvgjxkbnf",
        "outputId": "8d77203e-ae07-43ef-dd1c-94ef8b645875"
      },
      "execution_count": 98,
      "outputs": [
        {
          "output_type": "display_data",
          "data": {
            "text/plain": [
              "<Figure size 640x480 with 1 Axes>"
            ],
            "image/png": "[encoded data removed]"
          },
          "metadata": {}
        }
      ]
    }
  ]
}